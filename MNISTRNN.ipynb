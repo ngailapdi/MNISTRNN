{
  "nbformat": 4,
  "nbformat_minor": 0,
  "metadata": {
    "colab": {
      "name": "MNISTRNN.ipynb",
      "version": "0.3.2",
      "provenance": [],
      "collapsed_sections": []
    },
    "kernelspec": {
      "name": "python3",
      "display_name": "Python 3"
    },
    "accelerator": "TPU"
  },
  "cells": [
    {
      "metadata": {
        "id": "mxksxaN9v6jk",
        "colab_type": "code",
        "colab": {}
      },
      "cell_type": "code",
      "source": [
        "########## Import ############\n",
        "import torch\n",
        "import torch.nn as nn\n",
        "import torch.nn.functional as F\n",
        "from torchvision import datasets, transforms\n",
        "import torch.optim as optim\n",
        "from torch.autograd import Variable\n",
        "from torch.optim import lr_scheduler\n",
        "import torchvision\n",
        "import numpy as np\n",
        "import matplotlib.pyplot as plt"
      ],
      "execution_count": 0,
      "outputs": []
    },
    {
      "metadata": {
        "id": "JBVvuulEGWk5",
        "colab_type": "code",
        "colab": {}
      },
      "cell_type": "code",
      "source": [
        "# http://pytorch.org/\n",
        "from os.path import exists\n",
        "from wheel.pep425tags import get_abbr_impl, get_impl_ver, get_abi_tag\n",
        "platform = '{}{}-{}'.format(get_abbr_impl(), get_impl_ver(), get_abi_tag())\n",
        "cuda_output = !ldconfig -p|grep cudart.so|sed -e 's/.*\\.\\([0-9]*\\)\\.\\([0-9]*\\)$/cu\\1\\2/'\n",
        "accelerator = cuda_output[0] if exists('/dev/nvidia0') else 'cpu'\n",
        "\n",
        "!pip install -q http://download.pytorch.org/whl/{accelerator}/torch-0.4.1-{platform}-linux_x86_64.whl torchvision\n",
        "import torch"
      ],
      "execution_count": 0,
      "outputs": []
    },
    {
      "metadata": {
        "id": "ZmUB7sTPF8Er",
        "colab_type": "code",
        "colab": {
          "base_uri": "https://localhost:8080/",
          "height": 34
        },
        "outputId": "35efa5dc-3bec-450d-c0d9-bc1376237a06"
      },
      "cell_type": "code",
      "source": [
        "print(torch.cuda.current_device())"
      ],
      "execution_count": 4,
      "outputs": [
        {
          "output_type": "stream",
          "text": [
            "0\n"
          ],
          "name": "stdout"
        }
      ]
    },
    {
      "metadata": {
        "id": "l-9vqXykxEuI",
        "colab_type": "code",
        "outputId": "3f10ac41-4c24-4e8a-fb6d-8c5c7cd16930",
        "colab": {
          "base_uri": "https://localhost:8080/",
          "height": 119
        }
      },
      "cell_type": "code",
      "source": [
        "#### Load the MNIST dataset #####\n",
        "train_data = datasets.MNIST('~/data/mnist/', train=True, transform=transforms.ToTensor(), download=True)\n",
        "test_data = datasets.MNIST('~/data/mnist/', train=False, transform=transforms.ToTensor(), download=True)\n",
        "data_loader = torch.utils.data.DataLoader(train_data, batch_size=64, \n",
        "            shuffle=True, num_workers=4, drop_last=True)"
      ],
      "execution_count": 4,
      "outputs": [
        {
          "output_type": "stream",
          "text": [
            "Downloading http://yann.lecun.com/exdb/mnist/train-images-idx3-ubyte.gz\n",
            "Downloading http://yann.lecun.com/exdb/mnist/train-labels-idx1-ubyte.gz\n",
            "Downloading http://yann.lecun.com/exdb/mnist/t10k-images-idx3-ubyte.gz\n",
            "Downloading http://yann.lecun.com/exdb/mnist/t10k-labels-idx1-ubyte.gz\n",
            "Processing...\n",
            "Done!\n"
          ],
          "name": "stdout"
        }
      ]
    },
    {
      "metadata": {
        "id": "ep0kdztExLhn",
        "colab_type": "code",
        "colab": {}
      },
      "cell_type": "code",
      "source": [
        "def view_samples(samples):\n",
        "    fig, axes = plt.subplots(figsize=(7,7), nrows=4, ncols=4, sharey=True, sharex=True)\n",
        "    for ax, img in zip(axes.flatten(), samples):\n",
        "        ax.xaxis.set_visible(False)\n",
        "        ax.yaxis.set_visible(False)\n",
        "        im = ax.imshow(img.reshape((28,28)), cmap='Greys_r')\n",
        "    \n",
        "    return fig, axes"
      ],
      "execution_count": 0,
      "outputs": []
    },
    {
      "metadata": {
        "id": "Gnm_CCEWxN6L",
        "colab_type": "code",
        "outputId": "7749cfcb-62bf-4a3e-90e3-e6e93346e01c",
        "colab": {
          "base_uri": "https://localhost:8080/",
          "height": 411
        }
      },
      "cell_type": "code",
      "source": [
        "############### Viewing 16 random images from MNIST training set #############\n",
        "ind = np.random.choice(len(train_data), 16)\n",
        "samples = []\n",
        "for i in ind:\n",
        "  samples.append(train_data[i][0].numpy())\n",
        "_ = view_samples(np.array(samples).transpose(0,2,3,1))"
      ],
      "execution_count": 6,
      "outputs": [
        {
          "output_type": "display_data",
          "data": {
            "image/png": "[encoded data removed]",
            "text/plain": [
              "<matplotlib.figure.Figure at 0x7f5d83cefa58>"
            ]
          },
          "metadata": {
            "tags": []
          }
        }
      ]
    },
    {
      "metadata": {
        "id": "cxo0lcHE-xtQ",
        "colab_type": "code",
        "colab": {}
      },
      "cell_type": "code",
      "source": [
        "class Params():\n",
        "  def __init__(self):\n",
        "    self.n_inputs = 28\n",
        "    self.n_steps = 28\n",
        "    self.hidden_size = 150\n",
        "    self.n_class = 10\n",
        "    self.batch_size = 64\n",
        "\n",
        "params = Params()"
      ],
      "execution_count": 0,
      "outputs": []
    },
    {
      "metadata": {
        "id": "vhgFws0r0J00",
        "colab_type": "text"
      },
      "cell_type": "markdown",
      "source": [
        "The following is a very simple RNN model. Given an input image with size 28x28, the model takes each vertical slice at each time step (28 time steps in total corresponding to the width of the image). We only care about the output of the last cell, which we will place a fully-connected layer on top of it.\n",
        "\n",
        "![alt text](https://drive.google.com/uc?export=view&id=160sTFXOqdj9DrQ1ncTqeROhSdYI8KKAE)"
      ]
    },
    {
      "metadata": {
        "id": "usGM9m9ixU5R",
        "colab_type": "code",
        "colab": {}
      },
      "cell_type": "code",
      "source": [
        "class MNISTRnn(nn.Module):\n",
        "  def __init__(self):\n",
        "    super(MNISTRnn, self).__init__()\n",
        "    self.n_inputs = params.n_inputs\n",
        "    self.n_steps = params.n_steps\n",
        "    self.hidden_size = params.hidden_size\n",
        "    self.batch_size = params.batch_size\n",
        "    self.n_class = params.n_class\n",
        "    self.rnn = nn.RNN(self.n_inputs, self.hidden_size)\n",
        "    self.fc = nn.Linear(self.hidden_size, self.n_class)\n",
        "  \n",
        "  def initHidden(self):\n",
        "    # num layers, batch size, hidden size\n",
        "    return torch.zeros(1, self.batch_size, self.hidden_size)\n",
        "  \n",
        "  def forward(self, images):\n",
        "    images = images.squeeze(1)\n",
        "    x = images.permute(1,0,2) # w, n, h\n",
        "    hidden = self.initHidden()\n",
        "    out, h_out = self.rnn(x, hidden) #out: seq_len, batch, hidden_size\n",
        "    out = out[-1].view([out.shape[1], out.shape[2]])\n",
        "    out = self.fc(out)\n",
        "    return out.view(-1, self.n_class)"
      ],
      "execution_count": 0,
      "outputs": []
    },
    {
      "metadata": {
        "id": "nm6OR4_e_S6C",
        "colab_type": "code",
        "colab": {}
      },
      "cell_type": "code",
      "source": [
        "model = MNISTRnn()\n",
        "# model.cuda()\n",
        "criterion = nn.CrossEntropyLoss()\n",
        "optimizer = optim.Adam(model.parameters(), lr=0.001)"
      ],
      "execution_count": 0,
      "outputs": []
    },
    {
      "metadata": {
        "id": "MjGKipMy_e4S",
        "colab_type": "code",
        "colab": {}
      },
      "cell_type": "code",
      "source": [
        "def train():\n",
        "  epochs = 15\n",
        "  for epoch in range(epochs):\n",
        "    print('Epoch {}\\{}'.format(epoch+1, epochs))\n",
        "    tot_loss = 0.0\n",
        "    correct = 0.0\n",
        "    for data in data_loader:\n",
        "      inputs, labels = data\n",
        "      inputs, labels = Variable(inputs), Variable(labels)\n",
        "      optimizer.zero_grad()\n",
        "      logits = model(inputs)\n",
        "      _, preds = torch.max(logits.data,1)\n",
        "      loss = criterion(logits, labels)\n",
        "      loss.backward()\n",
        "      optimizer.step()\n",
        "      tot_loss += loss.item()\n",
        "      correct += torch.sum(preds == labels.data)\n",
        "    print('Epoch loss: ', tot_loss/len(train_data))\n",
        "    print('Epoch acc: ', correct.item()/len(train_data))\n",
        "  return model"
      ],
      "execution_count": 0,
      "outputs": []
    },
    {
      "metadata": {
        "id": "OXGrV5QLC7Wb",
        "colab_type": "code",
        "colab": {
          "base_uri": "https://localhost:8080/",
          "height": 782
        },
        "outputId": "fd83de84-a038-4e3c-d97f-14d518aa3eaf"
      },
      "cell_type": "code",
      "source": [
        "model = train()"
      ],
      "execution_count": 13,
      "outputs": [
        {
          "output_type": "stream",
          "text": [
            "Epoch 1\\15\n",
            "Epoch loss:  0.006483014023924867\n",
            "Epoch acc:  0.8758833333333333\n",
            "Epoch 2\\15\n",
            "Epoch loss:  0.004173276517291864\n",
            "Epoch acc:  0.9226333333333333\n",
            "Epoch 3\\15\n",
            "Epoch loss:  0.0032637021272753676\n",
            "Epoch acc:  0.9402666666666667\n",
            "Epoch 4\\15\n",
            "Epoch loss:  0.002858921030039589\n",
            "Epoch acc:  0.94655\n",
            "Epoch 5\\15\n",
            "Epoch loss:  0.002574704956139127\n",
            "Epoch acc:  0.9521\n",
            "Epoch 6\\15\n",
            "Epoch loss:  0.0022891208888341985\n",
            "Epoch acc:  0.95875\n",
            "Epoch 7\\15\n",
            "Epoch loss:  0.0021091509114330013\n",
            "Epoch acc:  0.9614166666666667\n",
            "Epoch 8\\15\n",
            "Epoch loss:  0.0020254748895764353\n",
            "Epoch acc:  0.9629666666666666\n",
            "Epoch 9\\15\n",
            "Epoch loss:  0.001958647893431286\n",
            "Epoch acc:  0.9641666666666666\n",
            "Epoch 10\\15\n",
            "Epoch loss:  0.0017322820233802\n",
            "Epoch acc:  0.9678666666666667\n",
            "Epoch 11\\15\n",
            "Epoch loss:  0.0017813670593003431\n",
            "Epoch acc:  0.9670833333333333\n",
            "Epoch 12\\15\n",
            "Epoch loss:  0.0017370454554756483\n",
            "Epoch acc:  0.96815\n",
            "Epoch 13\\15\n",
            "Epoch loss:  0.001603533312305808\n",
            "Epoch acc:  0.9704166666666667\n",
            "Epoch 14\\15\n",
            "Epoch loss:  0.0015322198727478584\n",
            "Epoch acc:  0.9718666666666667\n",
            "Epoch 15\\15\n",
            "Epoch loss:  0.0017124306056648492\n",
            "Epoch acc:  0.9688\n"
          ],
          "name": "stdout"
        }
      ]
    }
  ]
}